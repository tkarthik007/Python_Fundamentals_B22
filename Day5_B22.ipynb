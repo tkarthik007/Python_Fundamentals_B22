{
 "cells": [
  {
   "cell_type": "code",
   "execution_count": null,
   "metadata": {},
   "outputs": [],
   "source": [
    "# for loops"
   ]
  },
  {
   "cell_type": "code",
   "execution_count": null,
   "metadata": {},
   "outputs": [],
   "source": []
  },
  {
   "cell_type": "code",
   "execution_count": 2,
   "metadata": {},
   "outputs": [],
   "source": [
    "cust=['karthik','faiyaz','sri','raj', 'ram','mani']"
   ]
  },
  {
   "cell_type": "code",
   "execution_count": 3,
   "metadata": {},
   "outputs": [
    {
     "name": "stdout",
     "output_type": "stream",
     "text": [
      "Happy New Year, Karthik \n"
     ]
    }
   ],
   "source": [
    "print(f\"Happy New Year, {cust[0].title()} \")"
   ]
  },
  {
   "cell_type": "code",
   "execution_count": 4,
   "metadata": {},
   "outputs": [
    {
     "name": "stdout",
     "output_type": "stream",
     "text": [
      "Happy New Year, Faiyaz \n"
     ]
    }
   ],
   "source": [
    "print(f\"Happy New Year, {cust[1].title()} \")"
   ]
  },
  {
   "cell_type": "code",
   "execution_count": 5,
   "metadata": {},
   "outputs": [],
   "source": [
    "# for loop"
   ]
  },
  {
   "cell_type": "code",
   "execution_count": 7,
   "metadata": {},
   "outputs": [
    {
     "name": "stdout",
     "output_type": "stream",
     "text": [
      "Happy New Year, Karthik \n",
      "Happy New Year, Faiyaz \n",
      "Happy New Year, Sri \n",
      "Happy New Year, Raj \n",
      "Happy New Year, Ram \n",
      "Happy New Year, Mani \n"
     ]
    }
   ],
   "source": [
    "for customers in cust:\n",
    "    print(f\"Happy New Year, {customers.title()} \")"
   ]
  },
  {
   "cell_type": "code",
   "execution_count": null,
   "metadata": {},
   "outputs": [],
   "source": []
  },
  {
   "cell_type": "code",
   "execution_count": 8,
   "metadata": {},
   "outputs": [],
   "source": [
    "students=['karthik','faiyaz','sri','raj', 'ram','mani']"
   ]
  },
  {
   "cell_type": "code",
   "execution_count": 10,
   "metadata": {},
   "outputs": [
    {
     "name": "stdout",
     "output_type": "stream",
     "text": [
      "karthik\n",
      "faiyaz\n",
      "sri\n",
      "raj\n",
      "ram\n",
      "mani\n"
     ]
    }
   ],
   "source": [
    "for student in students:\n",
    "    print(student)"
   ]
  },
  {
   "cell_type": "code",
   "execution_count": 11,
   "metadata": {},
   "outputs": [
    {
     "name": "stdout",
     "output_type": "stream",
     "text": [
      "Good Work, Karthik \n",
      "Good Work, Faiyaz \n",
      "Good Work, Sri \n",
      "Good Work, Raj \n",
      "Good Work, Ram \n",
      "Good Work, Mani \n"
     ]
    }
   ],
   "source": [
    "for student in students:\n",
    " \n",
    "    print(f\"Good Work, {student.title()} \")"
   ]
  },
  {
   "cell_type": "code",
   "execution_count": 12,
   "metadata": {},
   "outputs": [
    {
     "name": "stdout",
     "output_type": "stream",
     "text": [
      "Good Work, Karthik \n",
      "Waiting to receive files, Karthik \n",
      "Good Work, Faiyaz \n",
      "Waiting to receive files, Faiyaz \n",
      "Good Work, Sri \n",
      "Waiting to receive files, Sri \n",
      "Good Work, Raj \n",
      "Waiting to receive files, Raj \n",
      "Good Work, Ram \n",
      "Waiting to receive files, Ram \n",
      "Good Work, Mani \n",
      "Waiting to receive files, Mani \n"
     ]
    }
   ],
   "source": [
    "for student in students: \n",
    "    print(f\"Good Work, {student.title()} \")\n",
    "    print(f\"Waiting to receive files, {student.title()} \")"
   ]
  },
  {
   "cell_type": "code",
   "execution_count": 13,
   "metadata": {},
   "outputs": [
    {
     "name": "stdout",
     "output_type": "stream",
     "text": [
      "Good Work, Karthik \n",
      "Waiting to receive files, Karthik.\n",
      " \n",
      "Good Work, Faiyaz \n",
      "Waiting to receive files, Faiyaz.\n",
      " \n",
      "Good Work, Sri \n",
      "Waiting to receive files, Sri.\n",
      " \n",
      "Good Work, Raj \n",
      "Waiting to receive files, Raj.\n",
      " \n",
      "Good Work, Ram \n",
      "Waiting to receive files, Ram.\n",
      " \n",
      "Good Work, Mani \n",
      "Waiting to receive files, Mani.\n",
      " \n"
     ]
    }
   ],
   "source": [
    "for student in students: \n",
    "    print(f\"Good Work, {student.title()} \")\n",
    "    print(f\"Waiting to receive files, {student.title()}.\\n \")"
   ]
  },
  {
   "cell_type": "code",
   "execution_count": 14,
   "metadata": {},
   "outputs": [
    {
     "name": "stdout",
     "output_type": "stream",
     "text": [
      "Good Work, Karthik \n",
      "Waiting to receive files, Karthik.\n",
      " \n",
      "Good Work, Faiyaz \n",
      "Waiting to receive files, Faiyaz.\n",
      " \n",
      "Good Work, Sri \n",
      "Waiting to receive files, Sri.\n",
      " \n",
      "Good Work, Raj \n",
      "Waiting to receive files, Raj.\n",
      " \n",
      "Good Work, Ram \n",
      "Waiting to receive files, Ram.\n",
      " \n",
      "Good Work, Mani \n",
      "Waiting to receive files, Mani.\n",
      " \n",
      "Thank you!\n"
     ]
    }
   ],
   "source": [
    "for student in students: \n",
    "    print(f\"Good Work, {student.title()} \")\n",
    "    print(f\"Waiting to receive files, {student.title()}.\\n \")\n",
    "    \n",
    "print(\"Thank you!\")"
   ]
  },
  {
   "cell_type": "code",
   "execution_count": null,
   "metadata": {},
   "outputs": [],
   "source": []
  },
  {
   "cell_type": "code",
   "execution_count": null,
   "metadata": {},
   "outputs": [],
   "source": []
  },
  {
   "cell_type": "code",
   "execution_count": null,
   "metadata": {},
   "outputs": [],
   "source": []
  },
  {
   "cell_type": "code",
   "execution_count": null,
   "metadata": {},
   "outputs": [],
   "source": []
  }
 ],
 "metadata": {
  "kernelspec": {
   "display_name": "Python 3",
   "language": "python",
   "name": "python3"
  },
  "language_info": {
   "codemirror_mode": {
    "name": "ipython",
    "version": 3
   },
   "file_extension": ".py",
   "mimetype": "text/x-python",
   "name": "python",
   "nbconvert_exporter": "python",
   "pygments_lexer": "ipython3",
   "version": "3.7.6"
  }
 },
 "nbformat": 4,
 "nbformat_minor": 4
}
